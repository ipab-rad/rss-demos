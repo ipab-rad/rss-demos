{
 "metadata": {
  "name": ""
 },
 "nbformat": 3,
 "nbformat_minor": 0,
 "worksheets": [
  {
   "cells": [
    {
     "cell_type": "code",
     "collapsed": false,
     "input": [
      "# Import matplotlib to display images\n",
      "import matplotlib.pyplot as plt\n",
      "%matplotlib inline\n",
      "# Set the default size of the figures to be \n",
      "# width 15.0 and height 13.0 units.\n",
      "plt.rcParams['figure.figsize'] = (15.0, 13.0)\n",
      "\n",
      "# Import NumPy in order to execute array operations efficiently.\n",
      "import numpy as np\n",
      "\n",
      "# Enable the OpenCV 3 module. The module name is not changed to \n",
      "# cv3 yet which could be quite confusing sometimes.\n",
      "import cv2\n",
      "\n",
      "# This is a helper function which displays an OpenCV image\n",
      "def display(img):\n",
      "    # OpenCV stores images in B G R sequence, so we need\n",
      "    # to explicitly convert it to R G B in order to plot\n",
      "    # with matplotlib\n",
      "    img = cv2.cvtColor(img, cv2.COLOR_BGR2RGB)\n",
      "    plt.imshow(img)"
     ],
     "language": "python",
     "metadata": {},
     "outputs": [],
     "prompt_number": 8
    },
    {
     "cell_type": "code",
     "collapsed": false,
     "input": [
      "# The images in this tutorial are downloaded from:\n",
      "# https://guillaume.segu.in/blog/photo/208/autostitching/\n",
      "\n",
      "from os import walk\n",
      "\n",
      "path = \"./imgs/panorama/\"\n",
      "files = []\n",
      "for (dirpath, dirnames, filenames) in walk(path):\n",
      "    files.extend(filenames)\n",
      "    break\n",
      "\n",
      "images = [cv2.imread(path + f) for f in files]\n"
     ],
     "language": "python",
     "metadata": {},
     "outputs": [],
     "prompt_number": 23
    }
   ],
   "metadata": {}
  }
 ]
}